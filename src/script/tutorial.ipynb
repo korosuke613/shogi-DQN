{
 "cells": [
  {
   "cell_type": "code",
   "execution_count": 1,
   "metadata": {},
   "outputs": [],
   "source": [
    "import shogi"
   ]
  },
  {
   "cell_type": "code",
   "execution_count": 2,
   "metadata": {},
   "outputs": [
    {
     "name": "stdout",
     "output_type": "stream",
     "text": [
      "後手の持駒：\n",
      "  ９ ８ ７ ６ ５ ４ ３ ２ １\n",
      "+---------------------------+\n",
      "|v香v桂v銀v金v玉v金v銀v桂v香|一\n",
      "| ・v飛 ・ ・ ・ ・ ・v角 ・|二\n",
      "|v歩v歩v歩v歩v歩v歩v歩v歩v歩|三\n",
      "| ・ ・ ・ ・ ・ ・ ・ ・ ・|四\n",
      "| ・ ・ ・ ・ ・ ・ ・ ・ ・|五\n",
      "| ・ ・ ・ ・ ・ ・ ・ ・ ・|六\n",
      "| 歩 歩 歩 歩 歩 歩 歩 歩 歩|七\n",
      "| ・ 角 ・ ・ ・ ・ ・ 飛 ・|八\n",
      "| 香 桂 銀 金 玉 金 銀 桂 香|九\n",
      "+---------------------------+\n",
      "先手の持駒：\n"
     ]
    }
   ],
   "source": [
    "board = shogi.Board()\n",
    "print(board.kif_str())"
   ]
  },
  {
   "cell_type": "code",
   "execution_count": 3,
   "metadata": {},
   "outputs": [
    {
     "name": "stdout",
     "output_type": "stream",
     "text": [
      ". . . . . . . . .\n",
      ". . . . . . . . .\n",
      ". . . . . . . . .\n",
      ". . . . . . . . .\n",
      ". . . . . . . . .\n",
      ". . . . . . . . .\n",
      ". . 1 . . . . . .\n",
      ". . . . . . . . .\n",
      ". . . . . . . . .\n",
      "後手の持駒：\n",
      "  ９ ８ ７ ６ ５ ４ ３ ２ １\n",
      "+---------------------------+\n",
      "|v香v桂v銀v金v玉v金v銀v桂v香|一\n",
      "| ・v飛 ・ ・ ・ ・ ・v角 ・|二\n",
      "|v歩v歩v歩v歩v歩v歩v歩v歩v歩|三\n",
      "| ・ ・ ・ ・ ・ ・ ・ ・ ・|四\n",
      "| ・ ・ ・ ・ ・ ・ ・ ・ ・|五\n",
      "| ・ ・ 歩 ・ ・ ・ ・ ・ ・|六\n",
      "| 歩 歩 ・ 歩 歩 歩 歩 歩 歩|七\n",
      "| ・ 角 ・ ・ ・ ・ ・ 飛 ・|八\n",
      "| 香 桂 銀 金 玉 金 銀 桂 香|九\n",
      "+---------------------------+\n",
      "先手の持駒：\n"
     ]
    }
   ],
   "source": [
    "# △7六歩\n",
    "usi = '7g7f'\n",
    "from_usi = '7g'\n",
    "from_usi_num = (9-7) + (7-1) * 9\n",
    "to_usi = '7f'\n",
    "to_usi_num = (9-7) + (6-1) * 9\n",
    "attackers = board.attackers(shogi.BLACK, to_usi_num)\n",
    "print(attackers)\n",
    "if from_usi_num in attackers:\n",
    "    board.push(shogi.Move.from_usi(usi))\n",
    "    print(board.kif_str())\n",
    "else:\n",
    "    print(False)"
   ]
  },
  {
   "cell_type": "code",
   "execution_count": 4,
   "metadata": {},
   "outputs": [
    {
     "data": {
      "text/plain": [
       "Piece.from_symbol('P')"
      ]
     },
     "execution_count": 4,
     "metadata": {},
     "output_type": "execute_result"
    }
   ],
   "source": [
    "board.piece_at(shogi.F7)"
   ]
  },
  {
   "cell_type": "code",
   "execution_count": 5,
   "metadata": {},
   "outputs": [
    {
     "name": "stdout",
     "output_type": "stream",
     "text": [
      "後手の持駒：\n",
      "  ９ ８ ７ ６ ５ ４ ３ ２ １\n",
      "+---------------------------+\n",
      "|v香v桂v銀v金v玉v金v銀v桂v香|一\n",
      "| ・v飛 ・ ・ ・ ・ ・v角 ・|二\n",
      "|v歩v歩v歩v歩v歩v歩 ・v歩v歩|三\n",
      "| ・ ・ ・ ・ ・ ・v歩 ・ ・|四\n",
      "| ・ ・ ・ ・ ・ ・ ・ ・ ・|五\n",
      "| ・ ・ 歩 ・ ・ ・ ・ ・ ・|六\n",
      "| 歩 歩 ・ 歩 歩 歩 歩 歩 歩|七\n",
      "| ・ 角 ・ ・ ・ ・ ・ 飛 ・|八\n",
      "| 香 桂 銀 金 玉 金 銀 桂 香|九\n",
      "+---------------------------+\n",
      "先手の持駒：\n"
     ]
    }
   ],
   "source": [
    "# ▲3四歩\n",
    "board.push_usi('3c3d')\n",
    "print(board.kif_str())"
   ]
  },
  {
   "cell_type": "code",
   "execution_count": 6,
   "metadata": {},
   "outputs": [
    {
     "name": "stdout",
     "output_type": "stream",
     "text": [
      "後手の持駒：\n",
      "  ９ ８ ７ ６ ５ ４ ３ ２ １\n",
      "+---------------------------+\n",
      "|v香v桂v銀v金v玉v金v銀v桂v香|一\n",
      "| ・v飛 ・ ・ ・ ・ ・ 馬 ・|二\n",
      "|v歩v歩v歩v歩v歩v歩 ・v歩v歩|三\n",
      "| ・ ・ ・ ・ ・ ・v歩 ・ ・|四\n",
      "| ・ ・ ・ ・ ・ ・ ・ ・ ・|五\n",
      "| ・ ・ 歩 ・ ・ ・ ・ ・ ・|六\n",
      "| 歩 歩 ・ 歩 歩 歩 歩 歩 歩|七\n",
      "| ・ ・ ・ ・ ・ ・ ・ 飛 ・|八\n",
      "| 香 桂 銀 金 玉 金 銀 桂 香|九\n",
      "+---------------------------+\n",
      "先手の持駒：　角\n"
     ]
    }
   ],
   "source": [
    "#%% △2二角成\n",
    "board.push_usi('8h2b+')\n",
    "print(board.kif_str())"
   ]
  },
  {
   "cell_type": "code",
   "execution_count": 7,
   "metadata": {},
   "outputs": [
    {
     "name": "stdout",
     "output_type": "stream",
     "text": [
      "後手の持駒：\n",
      "  ９ ８ ７ ６ ５ ４ ３ ２ １\n",
      "+---------------------------+\n",
      "|v香v桂v銀v金v玉 ・v銀v桂v香|一\n",
      "| ・v飛 ・ ・v金 ・ ・ 馬 ・|二\n",
      "|v歩v歩v歩v歩v歩v歩 ・v歩v歩|三\n",
      "| ・ ・ ・ ・ ・ ・v歩 ・ ・|四\n",
      "| ・ ・ ・ ・ ・ ・ ・ ・ ・|五\n",
      "| ・ ・ 歩 ・ ・ ・ ・ ・ ・|六\n",
      "| 歩 歩 ・ 歩 歩 歩 歩 歩 歩|七\n",
      "| ・ ・ ・ ・ ・ ・ ・ 飛 ・|八\n",
      "| 香 桂 銀 金 玉 金 銀 桂 香|九\n",
      "+---------------------------+\n",
      "先手の持駒：　角\n"
     ]
    }
   ],
   "source": [
    "#%%\n",
    "board.push_usi('4a5b')\n",
    "print(board.kif_str())"
   ]
  },
  {
   "cell_type": "code",
   "execution_count": 8,
   "metadata": {},
   "outputs": [
    {
     "name": "stdout",
     "output_type": "stream",
     "text": [
      "後手の持駒：\n",
      "  ９ ８ ７ ６ ５ ４ ３ ２ １\n",
      "+---------------------------+\n",
      "|v香v桂v銀v金v玉 ・v銀v桂v香|一\n",
      "| ・v飛 ・ ・v金 角 ・ 馬 ・|二\n",
      "|v歩v歩v歩v歩v歩v歩 ・v歩v歩|三\n",
      "| ・ ・ ・ ・ ・ ・v歩 ・ ・|四\n",
      "| ・ ・ ・ ・ ・ ・ ・ ・ ・|五\n",
      "| ・ ・ 歩 ・ ・ ・ ・ ・ ・|六\n",
      "| 歩 歩 ・ 歩 歩 歩 歩 歩 歩|七\n",
      "| ・ ・ ・ ・ ・ ・ ・ 飛 ・|八\n",
      "| 香 桂 銀 金 玉 金 銀 桂 香|九\n",
      "+---------------------------+\n",
      "先手の持駒：\n"
     ]
    }
   ],
   "source": [
    "board.push_usi('B*4b')\n",
    "print(board.kif_str())"
   ]
  },
  {
   "cell_type": "code",
   "execution_count": 9,
   "metadata": {},
   "outputs": [
    {
     "name": "stdout",
     "output_type": "stream",
     "text": [
      "後手の持駒：\n",
      "  ９ ８ ７ ６ ５ ４ ３ ２ １\n",
      "+---------------------------+\n",
      "|v香v桂v銀v金 ・v玉v銀v桂v香|一\n",
      "| ・v飛 ・ ・v金 角 ・ 馬 ・|二\n",
      "|v歩v歩v歩v歩v歩v歩 ・v歩v歩|三\n",
      "| ・ ・ ・ ・ ・ ・v歩 ・ ・|四\n",
      "| ・ ・ ・ ・ ・ ・ ・ ・ ・|五\n",
      "| ・ ・ 歩 ・ ・ ・ ・ ・ ・|六\n",
      "| 歩 歩 ・ 歩 歩 歩 歩 歩 歩|七\n",
      "| ・ ・ ・ ・ ・ ・ ・ 飛 ・|八\n",
      "| 香 桂 銀 金 玉 金 銀 桂 香|九\n",
      "+---------------------------+\n",
      "先手の持駒：\n"
     ]
    }
   ],
   "source": [
    "board.push_usi('5a4a')\n",
    "print(board.kif_str())"
   ]
  },
  {
   "cell_type": "code",
   "execution_count": 10,
   "metadata": {},
   "outputs": [
    {
     "name": "stdout",
     "output_type": "stream",
     "text": [
      "後手の持駒：\n",
      "  ９ ８ ７ ６ ５ ４ ３ ２ １\n",
      "+---------------------------+\n",
      "|v香v桂v銀v金 ・v玉 馬v桂v香|一\n",
      "| ・v飛 ・ ・v金 角 ・ ・ ・|二\n",
      "|v歩v歩v歩v歩v歩v歩 ・v歩v歩|三\n",
      "| ・ ・ ・ ・ ・ ・v歩 ・ ・|四\n",
      "| ・ ・ ・ ・ ・ ・ ・ ・ ・|五\n",
      "| ・ ・ 歩 ・ ・ ・ ・ ・ ・|六\n",
      "| 歩 歩 ・ 歩 歩 歩 歩 歩 歩|七\n",
      "| ・ ・ ・ ・ ・ ・ ・ 飛 ・|八\n",
      "| 香 桂 銀 金 玉 金 銀 桂 香|九\n",
      "+---------------------------+\n",
      "先手の持駒：　銀\n"
     ]
    }
   ],
   "source": [
    "board.push_usi('2b3a')\n",
    "print(board.kif_str())"
   ]
  },
  {
   "cell_type": "code",
   "execution_count": 11,
   "metadata": {},
   "outputs": [
    {
     "data": {
      "text/plain": [
       "True"
      ]
     },
     "execution_count": 11,
     "metadata": {},
     "output_type": "execute_result"
    }
   ],
   "source": [
    "board.is_checkmate()"
   ]
  },
  {
   "cell_type": "code",
   "execution_count": 12,
   "metadata": {},
   "outputs": [
    {
     "name": "stdout",
     "output_type": "stream",
     "text": [
      " l  n  s  g  .  k +B  n  l\n",
      " .  r  .  .  g  B  .  .  .\n",
      " p  p  p  p  p  p  .  p  p\n",
      " .  .  .  .  .  .  p  .  .\n",
      " .  .  .  .  .  .  .  .  .\n",
      " .  .  P  .  .  .  .  .  .\n",
      " P  P  .  P  P  P  P  P  P\n",
      " .  .  .  .  .  .  .  R  .\n",
      " L  N  S  G  K  G  S  N  L\n",
      "\n",
      " S*1\n"
     ]
    }
   ],
   "source": [
    "print(board)"
   ]
  },
  {
   "cell_type": "code",
   "execution_count": 13,
   "metadata": {},
   "outputs": [
    {
     "name": "stdout",
     "output_type": "stream",
     "text": [
      "後手の持駒：\n",
      "  ９ ８ ７ ６ ５ ４ ３ ２ １\n",
      "+---------------------------+\n",
      "|v香v桂v銀v金 ・v玉 馬v桂v香|一\n",
      "| ・v飛 ・ ・v金 角 ・ ・ ・|二\n",
      "|v歩v歩v歩v歩v歩v歩 ・v歩v歩|三\n",
      "| ・ ・ ・ ・ ・ ・v歩 ・ ・|四\n",
      "| ・ ・ ・ ・ ・ ・ ・ ・ ・|五\n",
      "| ・ ・ 歩 ・ ・ ・ ・ ・ ・|六\n",
      "| 歩 歩 ・ 歩 歩 歩 歩 歩 歩|七\n",
      "| ・ ・ ・ ・ ・ ・ ・ 飛 ・|八\n",
      "| 香 桂 銀 金 玉 金 銀 桂 香|九\n",
      "+---------------------------+\n",
      "先手の持駒：　銀\n"
     ]
    }
   ],
   "source": [
    "print(board.kif_str())"
   ]
  },
  {
   "cell_type": "code",
   "execution_count": null,
   "metadata": {},
   "outputs": [],
   "source": []
  }
 ],
 "metadata": {
  "kernelspec": {
   "display_name": "Python 3",
   "language": "python",
   "name": "python3"
  },
  "language_info": {
   "codemirror_mode": {
    "name": "ipython",
    "version": 3
   },
   "file_extension": ".py",
   "mimetype": "text/x-python",
   "name": "python",
   "nbconvert_exporter": "python",
   "pygments_lexer": "ipython3",
   "version": "3.7.3"
  }
 },
 "nbformat": 4,
 "nbformat_minor": 2
}
